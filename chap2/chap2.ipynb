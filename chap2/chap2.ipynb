{
 "cells": [
  {
   "cell_type": "code",
   "execution_count": 1,
   "metadata": {},
   "outputs": [
    {
     "name": "stdout",
     "output_type": "stream",
     "text": [
      "signature STACK =\r\n",
      "  sig\r\n",
      "    type 'a Stack\r\n",
      "    val empty : 'a Stack\r\n",
      "    val isEmpty : 'a Stack -> bool\r\n",
      "    val cons : 'a * 'a Stack -> 'a Stack\r\n",
      "    val head : 'a Stack -> 'a\r\n",
      "    val tail : 'a Stack -> 'a Stack\r\n",
      "  end\r\n"
     ]
    }
   ],
   "source": [
    "signature STACK =\n",
    "sig\n",
    "  type 'a Stack\n",
    "  val empty : 'a Stack\n",
    "  val isEmpty : 'a Stack -> bool\n",
    "  val cons : 'a * 'a Stack -> 'a Stack\n",
    "  val head : 'a Stack -> 'a\n",
    "  val tail : 'a Stack -> 'a Stack\n",
    "end;"
   ]
  },
  {
   "cell_type": "code",
   "execution_count": 2,
   "metadata": {},
   "outputs": [
    {
     "name": "stdout",
     "output_type": "stream",
     "text": [
      "structure List : STACK\r\n"
     ]
    }
   ],
   "source": [
    "structure List : STACK =\n",
    "struct\n",
    "  type 'a Stack = 'a list\n",
    "  val empty = []\n",
    "  fun isEmpty s = null s\n",
    "  fun cons (x, s) = x :: s\n",
    "  fun head s = hd s\n",
    "  fun tail s = tl s\n",
    "end;"
   ]
  },
  {
   "cell_type": "code",
   "execution_count": 3,
   "metadata": {},
   "outputs": [
    {
     "name": "stdout",
     "output_type": "stream",
     "text": [
      "structure CustomStack : STACK\r\n"
     ]
    }
   ],
   "source": [
    "structure CustomStack : STACK =\n",
    "struct\n",
    "  datatype 'a Stack = NIL | CONS of 'a * 'a Stack\n",
    "  val empty = NIL\n",
    "  fun isEmpty NIL = true | isEmpty _ = false\n",
    "  fun cons (x, s) = CONS (x, s)\n",
    "  fun head NIL = raise Empty\n",
    "    | head (CONS (x, s)) = x\n",
    "  fun tail NIL = raise Empty\n",
    "    | tail (CONS (x, s)) = s\n",
    "end;"
   ]
  },
  {
   "cell_type": "code",
   "execution_count": 4,
   "metadata": {},
   "outputs": [
    {
     "name": "stdout",
     "output_type": "stream",
     "text": [
      "val append = fn\r\n",
      "  : 'a CustomStack.Stack -> 'a CustomStack.Stack -> 'a CustomStack.Stack\r\n"
     ]
    }
   ],
   "source": [
    "local\n",
    "  open CustomStack\n",
    "in\n",
    "  fun append (xs : 'a Stack)  (ys : 'a Stack) = if isEmpty xs then ys else cons (head xs, append (tail xs) ys)\n",
    "end;"
   ]
  },
  {
   "cell_type": "code",
   "execution_count": 5,
   "metadata": {},
   "outputs": [
    {
     "name": "stdout",
     "output_type": "stream",
     "text": [
      "val append = fn : 'a list -> 'a list -> 'a list\r\n"
     ]
    }
   ],
   "source": [
    "fun append [] ys = ys\n",
    "  | append (x :: xs) ys = x :: (append xs ys);"
   ]
  },
  {
   "cell_type": "code",
   "execution_count": 6,
   "metadata": {},
   "outputs": [
    {
     "name": "stdout",
     "output_type": "stream",
     "text": [
      "val update = fn : 'a list * int * 'a -> 'a list\r\n"
     ]
    }
   ],
   "source": [
    "fun update ([], i, y) = raise Subscript\n",
    "  | update (x :: xs, 0, y) = y :: xs\n",
    "  | update (x :: xs, i, y) = x :: update (xs, i-1, y);"
   ]
  },
  {
   "cell_type": "code",
   "execution_count": 7,
   "metadata": {},
   "outputs": [
    {
     "name": "stdout",
     "output_type": "stream",
     "text": [
      "val suffixes = fn : 'a list -> 'a list list\r\n"
     ]
    }
   ],
   "source": [
    "(* ex.2.1 *)\n",
    "fun suffixes [] = [[]]\n",
    "  | suffixes (l as (x :: xs)) = l :: suffixes xs;"
   ]
  },
  {
   "cell_type": "code",
   "execution_count": 8,
   "metadata": {},
   "outputs": [
    {
     "name": "stdout",
     "output_type": "stream",
     "text": [
      "val it = [[1,2,3,4],[2,3,4],[3,4],[4],[]] : int list list\r\n"
     ]
    }
   ],
   "source": [
    "suffixes [1,2,3,4];"
   ]
  },
  {
   "cell_type": "code",
   "execution_count": 9,
   "metadata": {},
   "outputs": [
    {
     "name": "stdout",
     "output_type": "stream",
     "text": [
      "signature SET =\r\n",
      "  sig\r\n",
      "    type Elem\r\n",
      "    type Set\r\n",
      "    val empty : Set\r\n",
      "    val insert : Elem * Set -> Set\r\n",
      "    val member : Elem * Set -> bool\r\n",
      "  end\r\n"
     ]
    }
   ],
   "source": [
    "signature SET =\n",
    "sig\n",
    "  type Elem\n",
    "  type Set\n",
    "  val empty : Set\n",
    "  val insert : Elem * Set -> Set\n",
    "  val member : Elem * Set -> bool\n",
    "end;"
   ]
  },
  {
   "cell_type": "code",
   "execution_count": 10,
   "metadata": {},
   "outputs": [
    {
     "name": "stdout",
     "output_type": "stream",
     "text": [
      "signature ORDERED =\r\n",
      "  sig\r\n",
      "    type T\r\n",
      "    val eq : T * T -> bool\r\n",
      "    val lt : T * T -> bool\r\n",
      "    val leq : T * T -> bool\r\n",
      "  end\r\n",
      "functor UnbalancedSet(Element: sig\r\n",
      "                                 type T\r\n",
      "                                 val eq : T * T -> bool\r\n",
      "                                 val lt : T * T -> bool\r\n",
      "                                 val leq : T * T -> bool\r\n",
      "                               end) :\r\n",
      "                     sig\r\n",
      "                       type Elem\r\n",
      "                       type Set\r\n",
      "                       val empty : Set\r\n",
      "                       val insert : Elem * Set -> Set\r\n",
      "                       val member : Elem * Set -> bool\r\n",
      "                     end\r\n"
     ]
    }
   ],
   "source": [
    "(* Fig. 2.9 *)\n",
    "signature ORDERED =\n",
    "sig\n",
    "  type T\n",
    "  val eq : T * T -> bool\n",
    "  val lt : T * T -> bool\n",
    "  val leq : T * T -> bool\n",
    "end;\n",
    "\n",
    "functor UnbalancedSet (Element : ORDERED) : SET =\n",
    "struct\n",
    "  type Elem = Element.T\n",
    "  datatype Tree = E | T of Tree * Elem * Tree\n",
    "  type Set = Tree\n",
    "  val empty = E\n",
    "  fun member (x, E) = false\n",
    "    | member (x, T (a, y, b)) = \n",
    "        if Element.lt (x, y) then member (x, a)\n",
    "        else if Element.lt (y, x) then member (x, b)\n",
    "        else true\n",
    "  fun insert (x, E) = T (E, x, E)\n",
    "    | insert (x, s as T (a, y, b)) =\n",
    "        if Element.lt (x, y) then T (insert (x, a), y, b)\n",
    "        else if Element.lt (y, x) then T (a, y, insert (x, b))\n",
    "        else s\n",
    "end;"
   ]
  },
  {
   "cell_type": "code",
   "execution_count": 11,
   "metadata": {},
   "outputs": [
    {
     "name": "stdout",
     "output_type": "stream",
     "text": [
      "stdIn:11.77 Warning: calling polyEqual\r\n",
      "structure IntElement : ORDERED\r\n"
     ]
    }
   ],
   "source": [
    "structure IntElement : ORDERED =\n",
    "struct \n",
    "  type T = int\n",
    "  fun eq (x, y) = x = y\n",
    "  fun lt (x, y) = x < y\n",
    "  fun leq (x, y) = x <= y\n",
    "end;"
   ]
  },
  {
   "cell_type": "code",
   "execution_count": 12,
   "metadata": {},
   "outputs": [
    {
     "name": "stdout",
     "output_type": "stream",
     "text": [
      "structure IntTree : SET\r\n",
      "val t1 = T (T (T #,2,T #),5,T (E,6,E)) : IntTree.Set\r\n",
      "val it = true : bool\r\n",
      "val it = false : bool\r\n",
      "val it = true : bool\r\n"
     ]
    }
   ],
   "source": [
    "structure IntTree = UnbalancedSet (IntElement);\n",
    "val t1 = IntTree.insert (6, IntTree.insert (3, IntTree.insert (1, IntTree.insert (2, IntTree.insert (5, IntTree.empty)))));\n",
    "IntTree.member (1, t1);\n",
    "IntTree.member (4, t1);\n",
    "IntTree.member (4, IntTree.insert (4, t1));"
   ]
  },
  {
   "cell_type": "code",
   "execution_count": 13,
   "metadata": {},
   "outputs": [
    {
     "name": "stdout",
     "output_type": "stream",
     "text": [
      "functor UnbalancedSet(Element: sig\r\n",
      "                                 type T\r\n",
      "                                 val eq : T * T -> bool\r\n",
      "                                 val lt : T * T -> bool\r\n",
      "                                 val leq : T * T -> bool\r\n",
      "                               end) :\r\n",
      "                     sig\r\n",
      "                       type Elem\r\n",
      "                       type Set\r\n",
      "                       val empty : Set\r\n",
      "                       val insert : Elem * Set -> Set\r\n",
      "                       val member : Elem * Set -> bool\r\n",
      "                     end\r\n"
     ]
    }
   ],
   "source": [
    "(* ex.2.2 *)\n",
    "functor UnbalancedSet (Element : ORDERED) : SET =\n",
    "struct\n",
    "  type Elem = Element.T\n",
    "  datatype Tree = E | T of Tree * Elem * Tree\n",
    "  type Set = Tree\n",
    "  val empty = E\n",
    "  fun member (x, t) = let\n",
    "    fun member_rec (x, E, NONE) = false\n",
    "      | member_rec (x, E, SOME z) = Element.eq (x, z)\n",
    "      | member_rec (x, T (a, y, b), z) = \n",
    "          if Element.lt (x, y) then member_rec (x, a, z)\n",
    "          else member_rec (x, b, SOME y)\n",
    "  in member_rec (x, t, NONE) end\n",
    "  fun insert (x, E) = T (E, x, E)\n",
    "    | insert (x, s as T (a, y, b)) =\n",
    "        if Element.lt (x, y) then T (insert (x, a), y, b)\n",
    "        else if Element.lt (y, x) then T (a, y, insert (x, b))\n",
    "        else s\n",
    "end;"
   ]
  },
  {
   "cell_type": "code",
   "execution_count": 14,
   "metadata": {},
   "outputs": [
    {
     "name": "stdout",
     "output_type": "stream",
     "text": [
      "structure IntTree : SET\r\n",
      "val t1 = T (T (T #,2,T #),5,T (E,6,E)) : IntTree.Set\r\n",
      "val it = true : bool\r\n",
      "val it = false : bool\r\n"
     ]
    }
   ],
   "source": [
    "structure IntTree = UnbalancedSet (IntElement);\n",
    "val t1 = IntTree.insert (6, IntTree.insert (3, IntTree.insert (1, IntTree.insert (2, IntTree.insert (5, IntTree.empty)))));\n",
    "IntTree.member (1, t1);\n",
    "IntTree.member (4, t1);"
   ]
  },
  {
   "cell_type": "code",
   "execution_count": 15,
   "metadata": {},
   "outputs": [
    {
     "name": "stdout",
     "output_type": "stream",
     "text": [
      "functor UnbalancedSet(Element: sig\r\n",
      "                                 type T\r\n",
      "                                 val eq : T * T -> bool\r\n",
      "                                 val lt : T * T -> bool\r\n",
      "                                 val leq : T * T -> bool\r\n",
      "                               end) :\r\n",
      "                     sig\r\n",
      "                       type Elem\r\n",
      "                       type Set\r\n",
      "                       val empty : Set\r\n",
      "                       val insert : Elem * Set -> Set\r\n",
      "                       val member : Elem * Set -> bool\r\n",
      "                     end\r\n"
     ]
    }
   ],
   "source": [
    "(* ex.2.3 *)\n",
    "functor UnbalancedSet (Element : ORDERED) : SET =\n",
    "struct\n",
    "  type Elem = Element.T\n",
    "  datatype Tree = E | T of Tree * Elem * Tree\n",
    "  type Set = Tree\n",
    "  val empty = E\n",
    "  fun member (x, t) = let\n",
    "    fun member_rec (x, E, NONE) = false\n",
    "      | member_rec (x, E, SOME z) = Element.eq (x, z)\n",
    "      | member_rec (x, T (a, y, b), z) = \n",
    "          if Element.lt (x, y) then member_rec (x, a, z)\n",
    "          else member_rec (x, b, SOME y)\n",
    "  in member_rec (x, t, NONE) end\n",
    "  exception ExistElem\n",
    "  fun insert (x, t) = let\n",
    "    fun insert_rec (x, E) = T (E, x, E)\n",
    "      | insert_rec (x, s as T (a, y, b)) =\n",
    "          if Element.lt (x, y) then T (insert_rec (x, a), y, b)\n",
    "          else if Element.lt (x, y) then T (a, y, insert_rec (x, b))\n",
    "          else raise ExistElem\n",
    "  in insert_rec (x, t) handle ExistElem => t end\n",
    "end;"
   ]
  },
  {
   "cell_type": "code",
   "execution_count": 16,
   "metadata": {},
   "outputs": [
    {
     "name": "stdout",
     "output_type": "stream",
     "text": [
      "functor UnbalancedSet(Element: sig\r\n",
      "                                 type T\r\n",
      "                                 val eq : T * T -> bool\r\n",
      "                                 val lt : T * T -> bool\r\n",
      "                                 val leq : T * T -> bool\r\n",
      "                               end) :\r\n",
      "                     sig\r\n",
      "                       type Elem\r\n",
      "                       type Set\r\n",
      "                       val empty : Set\r\n",
      "                       val insert : Elem * Set -> Set\r\n",
      "                       val member : Elem * Set -> bool\r\n",
      "                     end\r\n"
     ]
    }
   ],
   "source": [
    "(* ex.2.4 *)\n",
    "functor UnbalancedSet (Element : ORDERED) : SET =\n",
    "struct\n",
    "  type Elem = Element.T\n",
    "  datatype Tree = E | T of Tree * Elem * Tree\n",
    "  type Set = Tree\n",
    "  val empty = E\n",
    "  fun member (x, t) = let\n",
    "    fun member_rec (x, E, NONE) = false\n",
    "      | member_rec (x, E, SOME z) = Element.eq (x, z)\n",
    "      | member_rec (x, T (a, y, b), z) = \n",
    "          if Element.lt (x, y) then member_rec (x, a, z)\n",
    "          else member_rec (x, b, SOME y)\n",
    "  in member_rec (x, t, NONE) end\n",
    "  exception ExistElem\n",
    "  fun insert (x, t) = let\n",
    "    fun insert_rec (x, E, NONE) = T (E, x, E)\n",
    "      | insert_rec (x, E, SOME z) = \n",
    "          if Element.eq (x, z) then raise ExistElem\n",
    "          else T (E, x, E)\n",
    "      | insert_rec (x, s as T (a, y, b), z) =\n",
    "          if Element.lt (x, y) then T (insert_rec (x, a, z), y, b)\n",
    "          else T (a, y, insert_rec (x, b, SOME y))\n",
    "  in insert_rec (x, t, NONE) handle ExistElem => t end\n",
    "end;"
   ]
  },
  {
   "cell_type": "code",
   "execution_count": 17,
   "metadata": {},
   "outputs": [
    {
     "name": "stdout",
     "output_type": "stream",
     "text": [
      "structure IntTree : SET\r\n",
      "val t1 = T (T (T #,2,T #),5,T (E,6,E)) : IntTree.Set\r\n",
      "val it = true : bool\r\n",
      "val it = false : bool\r\n",
      "val it = true : bool\r\n",
      "val it = true : bool\r\n"
     ]
    }
   ],
   "source": [
    "structure IntTree = UnbalancedSet (IntElement);\n",
    "val t1 = IntTree.insert (6, IntTree.insert (3, IntTree.insert (1, IntTree.insert (2, IntTree.insert (5, IntTree.empty)))));\n",
    "IntTree.member (1, t1);\n",
    "IntTree.member (4, t1);\n",
    "IntTree.member (4, IntTree.insert (4, t1));\n",
    "IntTree.member (1, IntTree.insert (1, t1));"
   ]
  },
  {
   "cell_type": "code",
   "execution_count": 18,
   "metadata": {},
   "outputs": [
    {
     "name": "stdout",
     "output_type": "stream",
     "text": [
      "signature SET =\r\n",
      "  sig\r\n",
      "    type Elem\r\n",
      "    type Set\r\n",
      "    val empty : Set\r\n",
      "    val insert : Elem * Set -> Set\r\n",
      "    val member : Elem * Set -> bool\r\n",
      "    val complete : Elem * int -> Set\r\n",
      "    val balanced : Elem * int -> Set\r\n",
      "  end\r\n",
      "functor UnbalancedSet(Element: sig\r\n",
      "                                 type T\r\n",
      "                                 val eq : T * T -> bool\r\n",
      "                                 val lt : T * T -> bool\r\n",
      "                                 val leq : T * T -> bool\r\n",
      "                               end) :\r\n",
      "                     sig\r\n",
      "                       type Elem\r\n",
      "                       type Set\r\n",
      "                       val empty : Set\r\n",
      "                       val insert : Elem * Set -> Set\r\n",
      "                       val member : Elem * Set -> bool\r\n",
      "                       val complete : Elem * int -> Set\r\n",
      "                       val balanced : Elem * int -> Set\r\n",
      "                     end\r\n"
     ]
    }
   ],
   "source": [
    "(* ex.2.5 *)\n",
    "signature SET =\n",
    "sig\n",
    "  type Elem\n",
    "  type Set\n",
    "  val empty : Set\n",
    "  val insert : Elem * Set -> Set\n",
    "  val member : Elem * Set -> bool\n",
    "  val complete : Elem * int -> Set\n",
    "  val balanced : Elem * int -> Set\n",
    "end;\n",
    "\n",
    "functor UnbalancedSet (Element : ORDERED) : SET =\n",
    "struct\n",
    "  type Elem = Element.T\n",
    "  datatype Tree = E | T of Tree * Elem * Tree\n",
    "  type Set = Tree\n",
    "  val empty = E\n",
    "  fun member (x, t) = let\n",
    "    fun member_rec (x, E, NONE) = false\n",
    "      | member_rec (x, E, SOME z) = Element.eq (x, z)\n",
    "      | member_rec (x, T (a, y, b), z) = \n",
    "          if Element.lt (x, y) then member_rec (x, a, z)\n",
    "          else member_rec (x, b, SOME y)\n",
    "  in member_rec (x, t, NONE) end\n",
    "  exception ExistElem\n",
    "  fun insert (x, t) = let\n",
    "    fun insert_rec (x, E, NONE) = T (E, x, E)\n",
    "      | insert_rec (x, E, SOME z) = \n",
    "          if Element.eq (x, z) then raise ExistElem\n",
    "          else T (E, x, E)\n",
    "      | insert_rec (x, s as T (a, y, b), z) =\n",
    "          if Element.lt (x, y) then T (insert_rec (x, a, z), y, b)\n",
    "          else T (a, y, insert_rec (x, b, SOME y))\n",
    "  in insert_rec (x, t, NONE) handle ExistElem => t end\n",
    "\n",
    "  (* ex.2.5 (a) *)\n",
    "  fun complete (x, 0) = E\n",
    "    | complete (x, d) = let\n",
    "        val t = complete (x, d - 1)\n",
    "      in T (t, x, t) end\n",
    "\n",
    "  (* ex.2.5 (b) *)\n",
    "  fun balanced (x, 0) = E\n",
    "    | balanced (x, 1) = T (E, x, E)\n",
    "    | balanced (x, n) = let\n",
    "        val m = (n - 1) div 2\n",
    "      in T (balanced (x, m + ((n - 1) mod 2)), x, balanced (x, m)) end\n",
    "end;"
   ]
  },
  {
   "cell_type": "code",
   "execution_count": 19,
   "metadata": {},
   "outputs": [
    {
     "name": "stdout",
     "output_type": "stream",
     "text": [
      "structure IntTree : SET\r\n",
      "val it = T (T (T #,2,T #),2,T (T #,2,T #)) : IntTree.Set\r\n",
      "val it = T (T (T #,2,E),2,T (E,2,E)) : IntTree.Set\r\n"
     ]
    }
   ],
   "source": [
    "structure IntTree = UnbalancedSet (IntElement);\n",
    "IntTree.complete (2, 3);\n",
    "IntTree.balanced (2, 4);"
   ]
  },
  {
   "cell_type": "code",
   "execution_count": 20,
   "metadata": {},
   "outputs": [
    {
     "name": "stdout",
     "output_type": "stream",
     "text": [
      "signature FINITE_MAP =\r\n",
      "  sig\r\n",
      "    type Key\r\n",
      "    type 'a Map\r\n",
      "    val empty : 'a Map\r\n",
      "    val bind : Key * 'a * 'a Map -> 'a Map\r\n",
      "    val lookup : Key * 'a Map -> 'a\r\n",
      "  end\r\n",
      "functor UnbalancedMap(KeyOrd: sig\r\n",
      "                                type T\r\n",
      "                                val eq : T * T -> bool\r\n",
      "                                val lt : T * T -> bool\r\n",
      "                                val leq : T * T -> bool\r\n",
      "                              end) :\r\n",
      "                     sig\r\n",
      "                       type Key\r\n",
      "                       type 'a Map\r\n",
      "                       val empty : 'a Map\r\n",
      "                       val bind : Key * 'a * 'a Map -> 'a Map\r\n",
      "                       val lookup : Key * 'a Map -> 'a\r\n",
      "                     end\r\n"
     ]
    }
   ],
   "source": [
    "(* ex.2.6 *)\n",
    "signature FINITE_MAP =\n",
    "sig\n",
    "  type Key\n",
    "  type 'a Map\n",
    "  val empty : 'a Map\n",
    "  val bind : Key * 'a * 'a Map -> 'a Map\n",
    "  val lookup : Key * 'a Map -> 'a\n",
    "end;\n",
    "\n",
    "functor UnbalancedMap (KeyOrd : ORDERED) : FINITE_MAP =\n",
    "struct\n",
    "  type Key = KeyOrd.T\n",
    "  datatype 'a MapTree = MapE | MapT of 'a MapTree * Key * 'a * 'a MapTree\n",
    "  type 'a Map = 'a MapTree\n",
    "  val empty = MapE\n",
    "  exception NotFound\n",
    "  fun bind (k, v, MapE) = MapT (MapE, k, v, MapE)\n",
    "    | bind (k, v, MapT (a, kk, vv, b)) =\n",
    "        if KeyOrd.lt (k, kk) then MapT (bind (k, v, a), kk, vv, b)\n",
    "        else if KeyOrd.lt (kk, k) then MapT (a, kk, vv, bind (k, v, b))\n",
    "        else MapT (a, k, v, b)\n",
    "  fun lookup (k, MapE) = raise NotFound\n",
    "    | lookup (k, MapT (a, kk, vv, b)) =\n",
    "        if KeyOrd.lt (k, kk) then lookup (k, a) \n",
    "        else if KeyOrd.lt (kk, k) then lookup (k, b)\n",
    "        else vv\n",
    "end;"
   ]
  },
  {
   "cell_type": "code",
   "execution_count": 21,
   "metadata": {},
   "outputs": [
    {
     "name": "stdout",
     "output_type": "stream",
     "text": [
      "structure IntMap : FINITE_MAP\r\n",
      "val t1 = MapT (MapE,1,\"a\",MapE) : string IntMap.Map\r\n",
      "val t2 = MapT (MapE,1,\"a\",MapT (MapE,2,\"b\",MapT #)) : string IntMap.Map\r\n",
      "val it = \"b\" : string\r\n",
      "\r\n",
      "uncaught exception NotFound\r\n",
      "  raised at: stdIn:20.685-20.693\r\n"
     ]
    }
   ],
   "source": [
    "structure IntMap = UnbalancedMap (IntElement);\n",
    "val t1 = IntMap.bind (1, \"a\", IntMap.empty);\n",
    "val t2 = IntMap.bind (5, \"d\", IntMap.bind (3, \"c\", IntMap.bind (2, \"b\", t1)));\n",
    "IntMap.lookup (2, t2);\n",
    "IntMap.lookup (4, t2);"
   ]
  },
  {
   "cell_type": "code",
   "execution_count": null,
   "metadata": {
    "collapsed": true
   },
   "outputs": [],
   "source": []
  }
 ],
 "metadata": {
  "kernelspec": {
   "display_name": "SML/NJ",
   "language": "smlnj",
   "name": "smlnj"
  },
  "language_info": {
   "codemirror_mode": "fsharp",
   "file_extension": ".sml",
   "mimetype": "text/plain",
   "name": "SML/NJ"
  }
 },
 "nbformat": 4,
 "nbformat_minor": 2
}
