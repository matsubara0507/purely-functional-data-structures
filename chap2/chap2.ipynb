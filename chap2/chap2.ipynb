{
 "cells": [
  {
   "cell_type": "code",
   "execution_count": 1,
   "metadata": {},
   "outputs": [
    {
     "name": "stdout",
     "output_type": "stream",
     "text": [
      "signature STACK =\r\n",
      "  sig\r\n",
      "    type 'a Stack\r\n",
      "    val empty : 'a Stack\r\n",
      "    val isEmpty : 'a Stack -> bool\r\n",
      "    val cons : 'a * 'a Stack -> 'a Stack\r\n",
      "    val head : 'a Stack -> 'a\r\n",
      "    val tail : 'a Stack -> 'a Stack\r\n",
      "  end\r\n"
     ]
    }
   ],
   "source": [
    "signature STACK =\n",
    "sig\n",
    "  type 'a Stack\n",
    "  val empty : 'a Stack\n",
    "  val isEmpty : 'a Stack -> bool\n",
    "  val cons : 'a * 'a Stack -> 'a Stack\n",
    "  val head : 'a Stack -> 'a\n",
    "  val tail : 'a Stack -> 'a Stack\n",
    "end;"
   ]
  },
  {
   "cell_type": "code",
   "execution_count": 2,
   "metadata": {},
   "outputs": [
    {
     "name": "stdout",
     "output_type": "stream",
     "text": [
      "structure List : STACK\r\n"
     ]
    }
   ],
   "source": [
    "structure List : STACK =\n",
    "struct\n",
    "  type 'a Stack = 'a list\n",
    "  val empty = []\n",
    "  fun isEmpty s = null s\n",
    "  fun cons (x, s) = x :: s\n",
    "  fun head s = hd s\n",
    "  fun tail s = tl s\n",
    "end;"
   ]
  },
  {
   "cell_type": "code",
   "execution_count": 3,
   "metadata": {},
   "outputs": [
    {
     "name": "stdout",
     "output_type": "stream",
     "text": [
      "structure CustomStack : STACK\r\n"
     ]
    }
   ],
   "source": [
    "structure CustomStack : STACK =\n",
    "struct\n",
    "  datatype 'a Stack = NIL | CONS of 'a * 'a Stack\n",
    "  val empty = NIL\n",
    "  fun isEmpty NIL = true | isEmpty _ = false\n",
    "  fun cons (x, s) = CONS (x, s)\n",
    "  fun head NIL = raise Empty\n",
    "    | head (CONS (x, s)) = x\n",
    "  fun tail NIL = raise Empty\n",
    "    | tail (CONS (x, s)) = s\n",
    "end;"
   ]
  },
  {
   "cell_type": "code",
   "execution_count": 4,
   "metadata": {},
   "outputs": [
    {
     "name": "stdout",
     "output_type": "stream",
     "text": [
      "val append = fn\r\n",
      "  : 'a CustomStack.Stack -> 'a CustomStack.Stack -> 'a CustomStack.Stack\r\n"
     ]
    }
   ],
   "source": [
    "local\n",
    "  open CustomStack\n",
    "in\n",
    "  fun append (xs : 'a Stack)  (ys : 'a Stack) = if isEmpty xs then ys else cons (head xs, append (tail xs) ys)\n",
    "end;"
   ]
  },
  {
   "cell_type": "code",
   "execution_count": 5,
   "metadata": {},
   "outputs": [
    {
     "name": "stdout",
     "output_type": "stream",
     "text": [
      "val append = fn : 'a list -> 'a list -> 'a list\r\n"
     ]
    }
   ],
   "source": [
    "fun append [] ys = ys\n",
    "  | append (x :: xs) ys = x :: (append xs ys);"
   ]
  },
  {
   "cell_type": "code",
   "execution_count": 6,
   "metadata": {},
   "outputs": [
    {
     "name": "stdout",
     "output_type": "stream",
     "text": [
      "val update = fn : 'a list * int * 'a -> 'a list\r\n"
     ]
    }
   ],
   "source": [
    "fun update ([], i, y) = raise Subscript\n",
    "  | update (x :: xs, 0, y) = y :: xs\n",
    "  | update (x :: xs, i, y) = x :: update (xs, i-1, y);"
   ]
  },
  {
   "cell_type": "code",
   "execution_count": 7,
   "metadata": {},
   "outputs": [
    {
     "name": "stdout",
     "output_type": "stream",
     "text": [
      "val suffixes = fn : 'a list -> 'a list list\r\n"
     ]
    }
   ],
   "source": [
    "(* ex.2.1 *)\n",
    "fun suffixes [] = [[]]\n",
    "  | suffixes (l as (x :: xs)) = l :: suffixes xs;"
   ]
  },
  {
   "cell_type": "code",
   "execution_count": 8,
   "metadata": {},
   "outputs": [
    {
     "name": "stdout",
     "output_type": "stream",
     "text": [
      "val it = [[1,2,3,4],[2,3,4],[3,4],[4],[]] : int list list\r\n"
     ]
    }
   ],
   "source": [
    "suffixes [1,2,3,4];"
   ]
  },
  {
   "cell_type": "code",
   "execution_count": null,
   "metadata": {
    "collapsed": true
   },
   "outputs": [],
   "source": []
  }
 ],
 "metadata": {
  "kernelspec": {
   "display_name": "SML/NJ",
   "language": "smlnj",
   "name": "smlnj"
  },
  "language_info": {
   "codemirror_mode": "fsharp",
   "file_extension": ".sml",
   "mimetype": "text/plain",
   "name": "SML/NJ"
  }
 },
 "nbformat": 4,
 "nbformat_minor": 2
}
